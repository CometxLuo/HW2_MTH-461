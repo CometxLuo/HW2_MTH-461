{
 "cells": [
  {
   "cell_type": "code",
   "execution_count": 1,
   "id": "afeea9f4",
   "metadata": {},
   "outputs": [],
   "source": [
    "from scipy.optimize import linprog"
   ]
  },
  {
   "cell_type": "code",
   "execution_count": 2,
   "id": "761c7eea",
   "metadata": {},
   "outputs": [
    {
     "data": {
      "text/plain": [
       "           con: array([], dtype=float64)\n",
       " crossover_nit: 0\n",
       "         eqlin:  marginals: array([], dtype=float64)\n",
       "  residual: array([], dtype=float64)\n",
       "           fun: 2.9999999999999996\n",
       "       ineqlin:  marginals: array([-0., -1., -1., -0., -1., -0., -0., -1.])\n",
       "  residual: array([1., 0., 0., 0., 0., 0., 5., 0.])\n",
       "         lower:  marginals: array([ 0.00000000e+00,  0.00000000e+00,  0.00000000e+00, -2.22044605e-16,\n",
       "        0.00000000e+00,  2.22044605e-16])\n",
       "  residual: array([inf, inf, 0.5, 0. , 2.5, 0. ])\n",
       "       message: 'Optimization terminated successfully. (HiGHS Status 7: Optimal)'\n",
       "           nit: 4\n",
       "         slack: array([1., 0., 0., 0., 0., 0., 5., 0.])\n",
       "        status: 0\n",
       "       success: True\n",
       "         upper:  marginals: array([0., 0., 0., 0., 0., 0.])\n",
       "  residual: array([inf, inf, inf, inf, inf, inf])\n",
       "             x: array([ 1.5, -1. ,  0.5,  0. ,  2.5,  0. ])"
      ]
     },
     "execution_count": 2,
     "metadata": {},
     "output_type": "execute_result"
    }
   ],
   "source": [
    "linprog(c = [0, 0, 1, 1, 1, 1],\n",
    "        A_ub = [[1, 1, -1, 0, 0, 0], \n",
    "                [2, 1, 0, -1, 0, 0], \n",
    "                [3, 1, 0, 0, -1, 0], \n",
    "                [4, 1, 0, 0, 0, -1], \n",
    "                [-1, -1, -1, 0, 0, 0], \n",
    "                [-2, -1, 0, -1, 0, 0], \n",
    "                [-3, -1, 0, 0, -1, 0], \n",
    "                [-4, -1, 0, 0, 0, -1]],\n",
    "        b_ub = [1, 2, 1, 5, -1, -2, -1, -5],\n",
    "        bounds = [(None, None), (None, None), (0, None), (0, None), (0, None), (0, None)])"
   ]
  },
  {
   "cell_type": "code",
   "execution_count": 7,
   "id": "8cc6c633",
   "metadata": {},
   "outputs": [
    {
     "data": {
      "text/plain": [
       "           con: array([], dtype=float64)\n",
       " crossover_nit: 0\n",
       "         eqlin:  marginals: array([], dtype=float64)\n",
       "  residual: array([], dtype=float64)\n",
       "           fun: 2.9999999999999996\n",
       "       ineqlin:  marginals: array([-0., -1., -1., -0., -1., -0., -0., -1.])\n",
       "  residual: array([1., 0., 0., 0., 0., 0., 5., 0.])\n",
       "         lower:  marginals: array([ 0.00000000e+00,  0.00000000e+00,  0.00000000e+00, -2.22044605e-16,\n",
       "        0.00000000e+00,  2.22044605e-16])\n",
       "  residual: array([inf, inf, 0.5, 0. , 2.5, 0. ])\n",
       "       message: 'Optimization terminated successfully. (HiGHS Status 7: Optimal)'\n",
       "           nit: 4\n",
       "         slack: array([1., 0., 0., 0., 0., 0., 5., 0.])\n",
       "        status: 0\n",
       "       success: True\n",
       "         upper:  marginals: array([0., 0., 0., 0., 0., 0.])\n",
       "  residual: array([inf, inf, inf, inf, inf, inf])\n",
       "             x: array([ 1.5, -1. ,  0.5,  0. ,  2.5,  0. ])"
      ]
     },
     "execution_count": 7,
     "metadata": {},
     "output_type": "execute_result"
    }
   ],
   "source": [
    "res = linprog(c = [0, 0, 1, 1, 1, 1],\n",
    "        A_ub = [[1, 1, -1, 0, 0, 0], \n",
    "                [2, 1, 0, -1, 0, 0], \n",
    "                [3, 1, 0, 0, -1, 0], \n",
    "                [4, 1, 0, 0, 0, -1], \n",
    "                [-1, -1, -1, 0, 0, 0], \n",
    "                [-2, -1, 0, -1, 0, 0], \n",
    "                [-3, -1, 0, 0, -1, 0], \n",
    "                [-4, -1, 0, 0, 0, -1]],\n",
    "        b_ub = [1, 2, 1, 5, -1, -2, -1, -5],\n",
    "        bounds = [(None, None), (None, None), (0, None), (0, None), (0, None), (0, None)])\n",
    "res"
   ]
  },
  {
   "cell_type": "code",
   "execution_count": 6,
   "id": "e6bb259a",
   "metadata": {
    "scrolled": true
   },
   "outputs": [
    {
     "data": {
      "text/plain": [
       "[<matplotlib.lines.Line2D at 0x7fd1b002a4c0>,\n",
       " <matplotlib.lines.Line2D at 0x7fd1b002a5e0>]"
      ]
     },
     "execution_count": 6,
     "metadata": {},
     "output_type": "execute_result"
    },
    {
     "data": {
      "image/png": "[encoded data removed]",
      "text/plain": [
       "<Figure size 640x480 with 1 Axes>"
      ]
     },
     "metadata": {},
     "output_type": "display_data"
    }
   ],
   "source": [
    "x = [i for i in range(5)]\n",
    "y = [1.5 * i - 1 for i in x]\n",
    "\n",
    "x1 = [1,2,3,4]\n",
    "y1 = [1,2,1,5]\n",
    "\n",
    "import matplotlib.pyplot as plt\n",
    "\n",
    "plt.plot(x,y,'r-',x1,y1,'o')"
   ]
  },
  {
   "cell_type": "code",
   "execution_count": 4,
   "id": "9d5391dd",
   "metadata": {},
   "outputs": [
    {
     "data": {
      "text/plain": [
       "           con: array([], dtype=float64)\n",
       " crossover_nit: 0\n",
       "         eqlin:  marginals: array([], dtype=float64)\n",
       "  residual: array([], dtype=float64)\n",
       "           fun: 1.9999999999999996\n",
       "       ineqlin:  marginals: array([-0.        , -1.        , -0.        , -0.33333333, -0.33333333,\n",
       "       -0.        , -1.        , -0.        ])\n",
       "  residual: array([ 2.66453526e-15,  0.00000000e+00,  4.00000000e+00,  0.00000000e+00,\n",
       "        0.00000000e+00,  8.88178420e-16,  0.00000000e+00, -2.66453526e-15])\n",
       "         lower:  marginals: array([0.00000000e+00, 0.00000000e+00, 0.00000000e+00, 6.66666667e-01,\n",
       "       3.33066907e-16, 0.00000000e+00, 6.66666667e-01])\n",
       "  residual: array([inf, inf, inf,  0.,  0.,  2.,  0.])\n",
       "       message: 'Optimization terminated successfully. (HiGHS Status 7: Optimal)'\n",
       "           nit: 6\n",
       "         slack: array([ 2.66453526e-15,  0.00000000e+00,  4.00000000e+00,  0.00000000e+00,\n",
       "        0.00000000e+00,  8.88178420e-16,  0.00000000e+00, -2.66453526e-15])\n",
       "        status: 0\n",
       "       success: True\n",
       "         upper:  marginals: array([0., 0., 0., 0., 0., 0., 0.])\n",
       "  residual: array([inf, inf, inf, inf, inf, inf, inf])\n",
       "             x: array([-0.5,  2.5, -1. ,  0. ,  0. ,  2. ,  0. ])"
      ]
     },
     "execution_count": 4,
     "metadata": {},
     "output_type": "execute_result"
    }
   ],
   "source": [
    "linprog(c = [0, 0, 0, 1, 1, 1, 1],\n",
    "        A_ub = [[1, 1, 1, -1, 0, 0, 0], \n",
    "                [4, 2, 1, 0, -1, 0, 0], \n",
    "                [9, 3, 1, 0, 0, -1, 0], \n",
    "                [16, 4, 1, 0, 0, 0, -1], \n",
    "                [-1, -1, -1, -1, 0, 0, 0], \n",
    "                [-4, -2, -1, 0, -1, 0, 0], \n",
    "                [-9, -3, -1, 0, 0, -1, 0], \n",
    "                [-16, -4, -1, 0, 0, 0, -1]],\n",
    "        b_ub = [1, 2, 4, 1, -1, -2, -4, -1],\n",
    "        bounds = [(None, None), (None, None), (None, None), (0, None), (0, None), (0, None), (0, None)])"
   ]
  },
  {
   "cell_type": "code",
   "execution_count": null,
   "id": "9bdc5ae5",
   "metadata": {},
   "outputs": [],
   "source": []
  }
 ],
 "metadata": {
  "kernelspec": {
   "display_name": "Python 3 (ipykernel)",
   "language": "python",
   "name": "python3"
  },
  "language_info": {
   "codemirror_mode": {
    "name": "ipython",
    "version": 3
   },
   "file_extension": ".py",
   "mimetype": "text/x-python",
   "name": "python",
   "nbconvert_exporter": "python",
   "pygments_lexer": "ipython3",
   "version": "3.9.13"
  }
 },
 "nbformat": 4,
 "nbformat_minor": 5
}
